{
 "cells": [
  {
   "cell_type": "code",
   "execution_count": 1,
   "id": "88d2e019-d9cb-4ddb-adc2-618f6ea9d003",
   "metadata": {},
   "outputs": [
    {
     "name": "stdout",
     "output_type": "stream",
     "text": [
      "Processing fold 1...\n",
      "Processing fold 2...\n",
      "Processing fold 3...\n"
     ]
    },
    {
     "name": "stderr",
     "output_type": "stream",
     "text": [
      "C:\\Users\\wzp07\\anaconda3\\envs\\AgePrediction\\Lib\\site-packages\\sklearn\\gaussian_process\\_gpr.py:659: ConvergenceWarning: lbfgs failed to converge (status=2):\n",
      "ABNORMAL_TERMINATION_IN_LNSRCH.\n",
      "\n",
      "Increase the number of iterations (max_iter) or scale the data as shown in:\n",
      "    https://scikit-learn.org/stable/modules/preprocessing.html\n",
      "  _check_optimize_result(\"lbfgs\", opt_res)\n"
     ]
    },
    {
     "name": "stdout",
     "output_type": "stream",
     "text": [
      "Processing fold 4...\n",
      "Processing fold 5...\n"
     ]
    },
    {
     "name": "stderr",
     "output_type": "stream",
     "text": [
      "C:\\Users\\wzp07\\anaconda3\\envs\\AgePrediction\\Lib\\site-packages\\sklearn\\gaussian_process\\_gpr.py:659: ConvergenceWarning: lbfgs failed to converge (status=2):\n",
      "ABNORMAL_TERMINATION_IN_LNSRCH.\n",
      "\n",
      "Increase the number of iterations (max_iter) or scale the data as shown in:\n",
      "    https://scikit-learn.org/stable/modules/preprocessing.html\n",
      "  _check_optimize_result(\"lbfgs\", opt_res)\n"
     ]
    },
    {
     "name": "stdout",
     "output_type": "stream",
     "text": [
      "Overall Root Mean Squared Error (RMSE): 8.0822\n",
      "Overall Mean Absolute Error (MAE): 4.8943\n"
     ]
    }
   ],
   "source": [
    "import os\n",
    "import numpy as np\n",
    "import pandas as pd\n",
    "import joblib\n",
    "from sklearn.model_selection import KFold\n",
    "from sklearn.metrics import mean_squared_error, mean_absolute_error\n",
    "from sklearn.gaussian_process import GaussianProcessRegressor\n",
    "from sklearn.gaussian_process.kernels import RBF, ConstantKernel as C\n",
    "import matplotlib.pyplot as plt\n",
    "import seaborn as sns\n",
    "\n",
    "# Define function to select top 30 features based on Pearson correlation with age\n",
    "def select_top_features(data, age_column='age', top_n=30):\n",
    "    correlations = data.corr()[age_column].abs().sort_values(ascending=False)\n",
    "    top_features = correlations.index[1:top_n+1].tolist()  # Exclude the age column itself\n",
    "    return top_features\n",
    "\n",
    "# Define function to convert age to age group\n",
    "def age_to_group(age):\n",
    "    return str((age // 10) * 10)\n",
    "\n",
    "# Prepare data using top features\n",
    "def prepare_data(data, top_features):\n",
    "    X = np.ascontiguousarray(data[top_features].to_numpy(dtype=np.float32))\n",
    "    y = data['age'].to_numpy(dtype=np.float32)\n",
    "    return X, y\n",
    "\n",
    "# Train models using 5-fold cross-validation\n",
    "def run_cross_validation(data, top_features, n_splits=5, random_state=42):\n",
    "    kf = KFold(n_splits=n_splits, shuffle=True, random_state=random_state)\n",
    "\n",
    "    all_predictions = []\n",
    "    all_true_values = []\n",
    "\n",
    "    for fold, (train_index, test_index) in enumerate(kf.split(data)):\n",
    "        print(f\"Processing fold {fold+1}...\")\n",
    "\n",
    "        train_df, test_df = data.iloc[train_index], data.iloc[test_index]\n",
    "        \n",
    "        X_train, y_train = prepare_data(train_df, top_features)\n",
    "        X_test, y_test = prepare_data(test_df, top_features)\n",
    "        \n",
    "        # Define the kernel: Constant * RBF (Radial Basis Function)\n",
    "        kernel = C(1.0, (1e-3, 1e3)) * RBF(1.0, (1e-2, 1e2))\n",
    "        model = GaussianProcessRegressor(kernel=kernel, n_restarts_optimizer=10, random_state=random_state)\n",
    "        \n",
    "        model.fit(X_train, y_train)\n",
    "        \n",
    "        # Save the model\n",
    "        model_filename = os.path.join(model_save_dir, f'GPR_model_fold_{fold}.joblib')\n",
    "        joblib.dump(model, model_filename)\n",
    "        \n",
    "        # Predict on the test data\n",
    "        predictions = model.predict(X_test)\n",
    "        \n",
    "        all_predictions.extend(predictions)\n",
    "        all_true_values.extend(y_test)\n",
    "\n",
    "    return np.array(all_true_values), np.array(all_predictions)\n",
    "\n",
    "# Ensure the model save directory exists\n",
    "model_save_dir = 'models'\n",
    "os.makedirs(model_save_dir, exist_ok=True)\n",
    "\n",
    "# Read the dataset\n",
    "data = pd.read_csv('imputed_data.csv', index_col=0)\n",
    "\n",
    "# Select top 30 features based on Pearson correlation with age\n",
    "top_features = select_top_features(data, age_column='age', top_n=30)\n",
    "\n",
    "# Run cross-validation\n",
    "y_true, y_pred = run_cross_validation(data, top_features)\n",
    "\n",
    "# Calculate errors\n",
    "mse = mean_squared_error(y_true, y_pred)\n",
    "mae = mean_absolute_error(y_true, y_pred)\n",
    "\n",
    "print(f\"Overall Root Mean Squared Error (RMSE): {mse**0.5:.4f}\")\n",
    "print(f\"Overall Mean Absolute Error (MAE): {mae:.4f}\")\n",
    "\n",
    "# Calculate prediction error\n",
    "error_table = pd.DataFrame({'Actual Age': y_true, 'Predicted Age': y_pred})\n",
    "error_table['Prediction Error'] = error_table['Predicted Age'] - error_table['Actual Age']\n"
   ]
  },
  {
   "cell_type": "code",
   "execution_count": null,
   "id": "851b539e-2fc7-47b8-b3ad-5f1e91f4e27d",
   "metadata": {},
   "outputs": [],
   "source": []
  },
  {
   "cell_type": "code",
   "execution_count": null,
   "id": "b78ee391-1587-4561-8e25-c95a0e387362",
   "metadata": {},
   "outputs": [],
   "source": []
  },
  {
   "cell_type": "code",
   "execution_count": null,
   "id": "da997dc2-ff44-4de1-a327-b3e9a18eb9a6",
   "metadata": {},
   "outputs": [],
   "source": []
  },
  {
   "cell_type": "code",
   "execution_count": null,
   "id": "363abfd4-5852-419c-821d-3f78413bba50",
   "metadata": {},
   "outputs": [],
   "source": []
  },
  {
   "cell_type": "code",
   "execution_count": null,
   "id": "cf129253-a16b-4058-94e8-241604b44854",
   "metadata": {},
   "outputs": [],
   "source": []
  },
  {
   "cell_type": "code",
   "execution_count": null,
   "id": "7491988c-ea59-4ebc-b944-d9db9ed245a8",
   "metadata": {},
   "outputs": [],
   "source": []
  },
  {
   "cell_type": "code",
   "execution_count": null,
   "id": "1f98f361-a9e5-4b52-bf2c-8c0519f599a6",
   "metadata": {},
   "outputs": [],
   "source": []
  },
  {
   "cell_type": "code",
   "execution_count": null,
   "id": "b0fbec22-7720-4348-9aa1-bfdd5778eac6",
   "metadata": {},
   "outputs": [],
   "source": []
  },
  {
   "cell_type": "code",
   "execution_count": null,
   "id": "85eb2289-284d-4b1c-9f75-0ad03025cadf",
   "metadata": {},
   "outputs": [],
   "source": []
  },
  {
   "cell_type": "code",
   "execution_count": null,
   "id": "a6e25016-3f29-43bf-a8ef-9ced0180bf2a",
   "metadata": {},
   "outputs": [],
   "source": []
  },
  {
   "cell_type": "code",
   "execution_count": null,
   "id": "171013da-1d0b-49a1-a472-5533330053f4",
   "metadata": {},
   "outputs": [],
   "source": []
  },
  {
   "cell_type": "code",
   "execution_count": null,
   "id": "4844ea8c-9f5a-4778-abc6-8f7bf6846d64",
   "metadata": {},
   "outputs": [],
   "source": []
  },
  {
   "cell_type": "code",
   "execution_count": null,
   "id": "ef700596-abf9-4763-ae71-2496a7fd5e0f",
   "metadata": {},
   "outputs": [],
   "source": []
  },
  {
   "cell_type": "code",
   "execution_count": null,
   "id": "985f37eb-5174-45aa-8c91-aa61e8d07946",
   "metadata": {},
   "outputs": [],
   "source": []
  },
  {
   "cell_type": "code",
   "execution_count": null,
   "id": "60597ef3-bf9e-4eba-aa77-1c2dbecfef98",
   "metadata": {},
   "outputs": [],
   "source": []
  },
  {
   "cell_type": "code",
   "execution_count": null,
   "id": "267c80a3-e07d-4733-b49e-4005f071e5af",
   "metadata": {},
   "outputs": [],
   "source": []
  },
  {
   "cell_type": "code",
   "execution_count": null,
   "id": "9e160957-fbcc-4fba-b90a-74b219d8748e",
   "metadata": {},
   "outputs": [],
   "source": []
  },
  {
   "cell_type": "code",
   "execution_count": null,
   "id": "14657618-d751-44f9-a8fb-7d495a5e5f43",
   "metadata": {},
   "outputs": [],
   "source": []
  },
  {
   "cell_type": "code",
   "execution_count": null,
   "id": "e86b3773-2f34-43c1-b972-e8e3078d32e3",
   "metadata": {},
   "outputs": [],
   "source": []
  },
  {
   "cell_type": "code",
   "execution_count": null,
   "id": "c3644904-e414-43a5-a493-adeff4233aa2",
   "metadata": {},
   "outputs": [],
   "source": []
  },
  {
   "cell_type": "code",
   "execution_count": null,
   "id": "73364c05-c5fc-4ff2-9b94-f3ec2161bfc9",
   "metadata": {},
   "outputs": [],
   "source": []
  },
  {
   "cell_type": "code",
   "execution_count": null,
   "id": "3644291a-191b-4603-807c-59643944ae02",
   "metadata": {},
   "outputs": [],
   "source": []
  },
  {
   "cell_type": "code",
   "execution_count": null,
   "id": "30585c44-7229-46ad-99c0-9a48fc81344a",
   "metadata": {},
   "outputs": [],
   "source": []
  },
  {
   "cell_type": "code",
   "execution_count": null,
   "id": "37e6f09a-c540-47e7-b34e-feffeef2520d",
   "metadata": {},
   "outputs": [],
   "source": []
  },
  {
   "cell_type": "code",
   "execution_count": null,
   "id": "a81cd58b-3aba-438b-b358-1c4d78e449be",
   "metadata": {},
   "outputs": [],
   "source": []
  },
  {
   "cell_type": "code",
   "execution_count": null,
   "id": "53e03f55-5699-406e-af47-07e221fefaa6",
   "metadata": {},
   "outputs": [],
   "source": []
  },
  {
   "cell_type": "code",
   "execution_count": null,
   "id": "b1ee7710-3c7e-4a28-bafb-26d288d9b151",
   "metadata": {},
   "outputs": [],
   "source": []
  },
  {
   "cell_type": "code",
   "execution_count": null,
   "id": "89d16add-306f-497c-96e6-79de695074cb",
   "metadata": {},
   "outputs": [],
   "source": []
  }
 ],
 "metadata": {
  "kernelspec": {
   "display_name": "Python 3 (ipykernel)",
   "language": "python",
   "name": "python3"
  },
  "language_info": {
   "codemirror_mode": {
    "name": "ipython",
    "version": 3
   },
   "file_extension": ".py",
   "mimetype": "text/x-python",
   "name": "python",
   "nbconvert_exporter": "python",
   "pygments_lexer": "ipython3",
   "version": "3.11.9"
  }
 },
 "nbformat": 4,
 "nbformat_minor": 5
}
